{
 "cells": [
  {
   "cell_type": "markdown",
   "id": "a6a466cf",
   "metadata": {},
   "source": [
    "###  理解LLM"
   ]
  },
  {
   "cell_type": "markdown",
   "id": "b568f452",
   "metadata": {},
   "source": [
    "内容：  \n",
    "1. High-level解释LLM背后得到的基础概念\n",
    "2. 深入理解transformer架构\n",
    "3. 从零开始构建LLM的步骤"
   ]
  },
  {
   "cell_type": "markdown",
   "id": "c5810f3e",
   "metadata": {},
   "source": [
    "#### 1. What is an LLM?"
   ]
  },
  {
   "cell_type": "markdown",
   "id": "e25a72e3",
   "metadata": {},
   "source": [
    "- Large language models(LLMs)是深度神经网络模型\n",
    "- LLMs具有显著能力来理解、生成、解释人类语言， 但并不是具有人类意识和理解能力\n",
    "- LLMs是通过海量(vast)文本数据训练的"
   ]
  },
  {
   "cell_type": "markdown",
   "id": "a0e45770",
   "metadata": {},
   "source": [
    "#### 2. 构建LLM的几个阶段"
   ]
  }
 ],
 "metadata": {
  "language_info": {
   "name": "python"
  }
 },
 "nbformat": 4,
 "nbformat_minor": 5
}

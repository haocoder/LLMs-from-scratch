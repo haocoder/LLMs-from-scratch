{
 "cells": [
  {
   "cell_type": "markdown",
   "id": "b5e33208",
   "metadata": {},
   "source": [
    "todo reading list:\n",
    "- BPE 详细原理"
   ]
  }
 ],
 "metadata": {
  "language_info": {
   "name": "python"
  }
 },
 "nbformat": 4,
 "nbformat_minor": 5
}
